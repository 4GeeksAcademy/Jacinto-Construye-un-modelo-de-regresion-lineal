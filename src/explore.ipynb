{
    "cells": [
        {
            "cell_type": "markdown",
            "metadata": {},
            "source": [
                "# Explore here"
            ]
        },
        {
            "cell_type": "code",
            "execution_count": null,
            "metadata": {},
            "outputs": [],
            "source": [
                "import pandas as pd\n",
                "import matplotlib.pyplot as plt\n",
                "import numpy as np\n",
                "import seaborn as sns\n",
                "import joblib\n",
                "\n",
                "from sklearn.linear_model import Lasso, Ridge\n",
                "from sklearn.metrics import r2_score, mean_absolute_error, mean_squared_error  \n",
                "from sklearn.preprocessing import StandardScaler  \n",
                "from sklearn.feature_selection import SelectKBest, f_regression"
            ]
        },
        {
            "cell_type": "markdown",
            "metadata": {},
            "source": [
                "## 0 - Cargar de datos y revisión General"
            ]
        },
        {
            "cell_type": "code",
            "execution_count": 7,
            "metadata": {},
            "outputs": [],
            "source": [
                "# 0.1 - Cargamos el dataframe\n",
                "url = \"https://raw.githubusercontent.com/4GeeksAcademy/regularized-linear-regression-project-tutorial/main/demographic_health_data.csv\"\n",
                "df = pd.read_csv(url, delimiter=\",\")  \n",
                "df.to_csv(\"/workspaces/Jacinto-Construye-un-modelo-de-regresion-lineal/src/demographic_health_data.csv\", index=False)"
            ]
        },
        {
            "cell_type": "code",
            "execution_count": 8,
            "metadata": {},
            "outputs": [
                {
                    "data": {
                        "text/html": [
                            "<div>\n",
                            "<style scoped>\n",
                            "    .dataframe tbody tr th:only-of-type {\n",
                            "        vertical-align: middle;\n",
                            "    }\n",
                            "\n",
                            "    .dataframe tbody tr th {\n",
                            "        vertical-align: top;\n",
                            "    }\n",
                            "\n",
                            "    .dataframe thead th {\n",
                            "        text-align: right;\n",
                            "    }\n",
                            "</style>\n",
                            "<table border=\"1\" class=\"dataframe\">\n",
                            "  <thead>\n",
                            "    <tr style=\"text-align: right;\">\n",
                            "      <th></th>\n",
                            "      <th>fips</th>\n",
                            "      <th>TOT_POP</th>\n",
                            "      <th>0-9</th>\n",
                            "      <th>0-9 y/o % of total pop</th>\n",
                            "      <th>19-Oct</th>\n",
                            "      <th>10-19 y/o % of total pop</th>\n",
                            "      <th>20-29</th>\n",
                            "      <th>20-29 y/o % of total pop</th>\n",
                            "      <th>30-39</th>\n",
                            "      <th>30-39 y/o % of total pop</th>\n",
                            "      <th>...</th>\n",
                            "      <th>COPD_number</th>\n",
                            "      <th>diabetes_prevalence</th>\n",
                            "      <th>diabetes_Lower 95% CI</th>\n",
                            "      <th>diabetes_Upper 95% CI</th>\n",
                            "      <th>diabetes_number</th>\n",
                            "      <th>CKD_prevalence</th>\n",
                            "      <th>CKD_Lower 95% CI</th>\n",
                            "      <th>CKD_Upper 95% CI</th>\n",
                            "      <th>CKD_number</th>\n",
                            "      <th>Urban_rural_code</th>\n",
                            "    </tr>\n",
                            "  </thead>\n",
                            "  <tbody>\n",
                            "    <tr>\n",
                            "      <th>0</th>\n",
                            "      <td>1001</td>\n",
                            "      <td>55601</td>\n",
                            "      <td>6787</td>\n",
                            "      <td>12.206615</td>\n",
                            "      <td>7637</td>\n",
                            "      <td>13.735364</td>\n",
                            "      <td>6878</td>\n",
                            "      <td>12.370281</td>\n",
                            "      <td>7089</td>\n",
                            "      <td>12.749771</td>\n",
                            "      <td>...</td>\n",
                            "      <td>3644</td>\n",
                            "      <td>12.9</td>\n",
                            "      <td>11.9</td>\n",
                            "      <td>13.8</td>\n",
                            "      <td>5462</td>\n",
                            "      <td>3.1</td>\n",
                            "      <td>2.9</td>\n",
                            "      <td>3.3</td>\n",
                            "      <td>1326</td>\n",
                            "      <td>3</td>\n",
                            "    </tr>\n",
                            "    <tr>\n",
                            "      <th>1</th>\n",
                            "      <td>1003</td>\n",
                            "      <td>218022</td>\n",
                            "      <td>24757</td>\n",
                            "      <td>11.355276</td>\n",
                            "      <td>26913</td>\n",
                            "      <td>12.344167</td>\n",
                            "      <td>23579</td>\n",
                            "      <td>10.814964</td>\n",
                            "      <td>25213</td>\n",
                            "      <td>11.564429</td>\n",
                            "      <td>...</td>\n",
                            "      <td>14692</td>\n",
                            "      <td>12.0</td>\n",
                            "      <td>11.0</td>\n",
                            "      <td>13.1</td>\n",
                            "      <td>20520</td>\n",
                            "      <td>3.2</td>\n",
                            "      <td>3.0</td>\n",
                            "      <td>3.5</td>\n",
                            "      <td>5479</td>\n",
                            "      <td>4</td>\n",
                            "    </tr>\n",
                            "    <tr>\n",
                            "      <th>2</th>\n",
                            "      <td>1005</td>\n",
                            "      <td>24881</td>\n",
                            "      <td>2732</td>\n",
                            "      <td>10.980266</td>\n",
                            "      <td>2960</td>\n",
                            "      <td>11.896628</td>\n",
                            "      <td>3268</td>\n",
                            "      <td>13.134520</td>\n",
                            "      <td>3201</td>\n",
                            "      <td>12.865239</td>\n",
                            "      <td>...</td>\n",
                            "      <td>2373</td>\n",
                            "      <td>19.7</td>\n",
                            "      <td>18.6</td>\n",
                            "      <td>20.6</td>\n",
                            "      <td>3870</td>\n",
                            "      <td>4.5</td>\n",
                            "      <td>4.2</td>\n",
                            "      <td>4.8</td>\n",
                            "      <td>887</td>\n",
                            "      <td>6</td>\n",
                            "    </tr>\n",
                            "    <tr>\n",
                            "      <th>3</th>\n",
                            "      <td>1007</td>\n",
                            "      <td>22400</td>\n",
                            "      <td>2456</td>\n",
                            "      <td>10.964286</td>\n",
                            "      <td>2596</td>\n",
                            "      <td>11.589286</td>\n",
                            "      <td>3029</td>\n",
                            "      <td>13.522321</td>\n",
                            "      <td>3113</td>\n",
                            "      <td>13.897321</td>\n",
                            "      <td>...</td>\n",
                            "      <td>1789</td>\n",
                            "      <td>14.1</td>\n",
                            "      <td>13.2</td>\n",
                            "      <td>14.9</td>\n",
                            "      <td>2511</td>\n",
                            "      <td>3.3</td>\n",
                            "      <td>3.1</td>\n",
                            "      <td>3.6</td>\n",
                            "      <td>595</td>\n",
                            "      <td>2</td>\n",
                            "    </tr>\n",
                            "    <tr>\n",
                            "      <th>4</th>\n",
                            "      <td>1009</td>\n",
                            "      <td>57840</td>\n",
                            "      <td>7095</td>\n",
                            "      <td>12.266598</td>\n",
                            "      <td>7570</td>\n",
                            "      <td>13.087828</td>\n",
                            "      <td>6742</td>\n",
                            "      <td>11.656293</td>\n",
                            "      <td>6884</td>\n",
                            "      <td>11.901798</td>\n",
                            "      <td>...</td>\n",
                            "      <td>4661</td>\n",
                            "      <td>13.5</td>\n",
                            "      <td>12.6</td>\n",
                            "      <td>14.5</td>\n",
                            "      <td>6017</td>\n",
                            "      <td>3.4</td>\n",
                            "      <td>3.2</td>\n",
                            "      <td>3.7</td>\n",
                            "      <td>1507</td>\n",
                            "      <td>2</td>\n",
                            "    </tr>\n",
                            "  </tbody>\n",
                            "</table>\n",
                            "<p>5 rows × 108 columns</p>\n",
                            "</div>"
                        ],
                        "text/plain": [
                            "   fips  TOT_POP    0-9  0-9 y/o % of total pop  19-Oct  \\\n",
                            "0  1001    55601   6787               12.206615    7637   \n",
                            "1  1003   218022  24757               11.355276   26913   \n",
                            "2  1005    24881   2732               10.980266    2960   \n",
                            "3  1007    22400   2456               10.964286    2596   \n",
                            "4  1009    57840   7095               12.266598    7570   \n",
                            "\n",
                            "   10-19 y/o % of total pop  20-29  20-29 y/o % of total pop  30-39  \\\n",
                            "0                 13.735364   6878                 12.370281   7089   \n",
                            "1                 12.344167  23579                 10.814964  25213   \n",
                            "2                 11.896628   3268                 13.134520   3201   \n",
                            "3                 11.589286   3029                 13.522321   3113   \n",
                            "4                 13.087828   6742                 11.656293   6884   \n",
                            "\n",
                            "   30-39 y/o % of total pop  ...  COPD_number  diabetes_prevalence  \\\n",
                            "0                 12.749771  ...         3644                 12.9   \n",
                            "1                 11.564429  ...        14692                 12.0   \n",
                            "2                 12.865239  ...         2373                 19.7   \n",
                            "3                 13.897321  ...         1789                 14.1   \n",
                            "4                 11.901798  ...         4661                 13.5   \n",
                            "\n",
                            "   diabetes_Lower 95% CI  diabetes_Upper 95% CI  diabetes_number  \\\n",
                            "0                   11.9                   13.8             5462   \n",
                            "1                   11.0                   13.1            20520   \n",
                            "2                   18.6                   20.6             3870   \n",
                            "3                   13.2                   14.9             2511   \n",
                            "4                   12.6                   14.5             6017   \n",
                            "\n",
                            "   CKD_prevalence  CKD_Lower 95% CI  CKD_Upper 95% CI  CKD_number  \\\n",
                            "0             3.1               2.9               3.3        1326   \n",
                            "1             3.2               3.0               3.5        5479   \n",
                            "2             4.5               4.2               4.8         887   \n",
                            "3             3.3               3.1               3.6         595   \n",
                            "4             3.4               3.2               3.7        1507   \n",
                            "\n",
                            "   Urban_rural_code  \n",
                            "0                 3  \n",
                            "1                 4  \n",
                            "2                 6  \n",
                            "3                 2  \n",
                            "4                 2  \n",
                            "\n",
                            "[5 rows x 108 columns]"
                        ]
                    },
                    "execution_count": 8,
                    "metadata": {},
                    "output_type": "execute_result"
                }
            ],
            "source": [
                "# 0.2 - Revisamos las primeras filas del dataframe\n",
                "df.head() "
            ]
        },
        {
            "cell_type": "code",
            "execution_count": 9,
            "metadata": {},
            "outputs": [
                {
                    "name": "stdout",
                    "output_type": "stream",
                    "text": [
                        "El dataset tiene 3140 filas y 108 columnas.\n"
                    ]
                }
            ],
            "source": [
                "# 0.3 - Vemos las dimensiones en filas y columnas del dataframe\n",
                "print(f\"El dataset tiene {df.shape[0]} filas y {df.shape[1]} columnas.\")"
            ]
        },
        {
            "cell_type": "code",
            "execution_count": 10,
            "metadata": {},
            "outputs": [
                {
                    "name": "stdout",
                    "output_type": "stream",
                    "text": [
                        "<class 'pandas.core.frame.DataFrame'>\n",
                        "RangeIndex: 3140 entries, 0 to 3139\n",
                        "Columns: 108 entries, fips to Urban_rural_code\n",
                        "dtypes: float64(61), int64(45), object(2)\n",
                        "memory usage: 2.6+ MB\n"
                    ]
                },
                {
                    "data": {
                        "text/html": [
                            "<div>\n",
                            "<style scoped>\n",
                            "    .dataframe tbody tr th:only-of-type {\n",
                            "        vertical-align: middle;\n",
                            "    }\n",
                            "\n",
                            "    .dataframe tbody tr th {\n",
                            "        vertical-align: top;\n",
                            "    }\n",
                            "\n",
                            "    .dataframe thead th {\n",
                            "        text-align: right;\n",
                            "    }\n",
                            "</style>\n",
                            "<table border=\"1\" class=\"dataframe\">\n",
                            "  <thead>\n",
                            "    <tr style=\"text-align: right;\">\n",
                            "      <th></th>\n",
                            "      <th>fips</th>\n",
                            "      <th>TOT_POP</th>\n",
                            "      <th>0-9</th>\n",
                            "      <th>0-9 y/o % of total pop</th>\n",
                            "      <th>19-Oct</th>\n",
                            "      <th>10-19 y/o % of total pop</th>\n",
                            "      <th>20-29</th>\n",
                            "      <th>20-29 y/o % of total pop</th>\n",
                            "      <th>30-39</th>\n",
                            "      <th>30-39 y/o % of total pop</th>\n",
                            "      <th>...</th>\n",
                            "      <th>COPD_number</th>\n",
                            "      <th>diabetes_prevalence</th>\n",
                            "      <th>diabetes_Lower 95% CI</th>\n",
                            "      <th>diabetes_Upper 95% CI</th>\n",
                            "      <th>diabetes_number</th>\n",
                            "      <th>CKD_prevalence</th>\n",
                            "      <th>CKD_Lower 95% CI</th>\n",
                            "      <th>CKD_Upper 95% CI</th>\n",
                            "      <th>CKD_number</th>\n",
                            "      <th>Urban_rural_code</th>\n",
                            "    </tr>\n",
                            "  </thead>\n",
                            "  <tbody>\n",
                            "    <tr>\n",
                            "      <th>count</th>\n",
                            "      <td>3140.000000</td>\n",
                            "      <td>3.140000e+03</td>\n",
                            "      <td>3.140000e+03</td>\n",
                            "      <td>3140.000000</td>\n",
                            "      <td>3.140000e+03</td>\n",
                            "      <td>3140.000000</td>\n",
                            "      <td>3.140000e+03</td>\n",
                            "      <td>3140.000000</td>\n",
                            "      <td>3.140000e+03</td>\n",
                            "      <td>3140.000000</td>\n",
                            "      <td>...</td>\n",
                            "      <td>3140.000000</td>\n",
                            "      <td>3140.000000</td>\n",
                            "      <td>3140.000000</td>\n",
                            "      <td>3140.000000</td>\n",
                            "      <td>3140.000000</td>\n",
                            "      <td>3140.000000</td>\n",
                            "      <td>3140.000000</td>\n",
                            "      <td>3140.000000</td>\n",
                            "      <td>3140.000000</td>\n",
                            "      <td>3140.000000</td>\n",
                            "    </tr>\n",
                            "    <tr>\n",
                            "      <th>unique</th>\n",
                            "      <td>NaN</td>\n",
                            "      <td>NaN</td>\n",
                            "      <td>NaN</td>\n",
                            "      <td>NaN</td>\n",
                            "      <td>NaN</td>\n",
                            "      <td>NaN</td>\n",
                            "      <td>NaN</td>\n",
                            "      <td>NaN</td>\n",
                            "      <td>NaN</td>\n",
                            "      <td>NaN</td>\n",
                            "      <td>...</td>\n",
                            "      <td>NaN</td>\n",
                            "      <td>NaN</td>\n",
                            "      <td>NaN</td>\n",
                            "      <td>NaN</td>\n",
                            "      <td>NaN</td>\n",
                            "      <td>NaN</td>\n",
                            "      <td>NaN</td>\n",
                            "      <td>NaN</td>\n",
                            "      <td>NaN</td>\n",
                            "      <td>NaN</td>\n",
                            "    </tr>\n",
                            "    <tr>\n",
                            "      <th>top</th>\n",
                            "      <td>NaN</td>\n",
                            "      <td>NaN</td>\n",
                            "      <td>NaN</td>\n",
                            "      <td>NaN</td>\n",
                            "      <td>NaN</td>\n",
                            "      <td>NaN</td>\n",
                            "      <td>NaN</td>\n",
                            "      <td>NaN</td>\n",
                            "      <td>NaN</td>\n",
                            "      <td>NaN</td>\n",
                            "      <td>...</td>\n",
                            "      <td>NaN</td>\n",
                            "      <td>NaN</td>\n",
                            "      <td>NaN</td>\n",
                            "      <td>NaN</td>\n",
                            "      <td>NaN</td>\n",
                            "      <td>NaN</td>\n",
                            "      <td>NaN</td>\n",
                            "      <td>NaN</td>\n",
                            "      <td>NaN</td>\n",
                            "      <td>NaN</td>\n",
                            "    </tr>\n",
                            "    <tr>\n",
                            "      <th>freq</th>\n",
                            "      <td>NaN</td>\n",
                            "      <td>NaN</td>\n",
                            "      <td>NaN</td>\n",
                            "      <td>NaN</td>\n",
                            "      <td>NaN</td>\n",
                            "      <td>NaN</td>\n",
                            "      <td>NaN</td>\n",
                            "      <td>NaN</td>\n",
                            "      <td>NaN</td>\n",
                            "      <td>NaN</td>\n",
                            "      <td>...</td>\n",
                            "      <td>NaN</td>\n",
                            "      <td>NaN</td>\n",
                            "      <td>NaN</td>\n",
                            "      <td>NaN</td>\n",
                            "      <td>NaN</td>\n",
                            "      <td>NaN</td>\n",
                            "      <td>NaN</td>\n",
                            "      <td>NaN</td>\n",
                            "      <td>NaN</td>\n",
                            "      <td>NaN</td>\n",
                            "    </tr>\n",
                            "    <tr>\n",
                            "      <th>mean</th>\n",
                            "      <td>30401.640764</td>\n",
                            "      <td>1.041894e+05</td>\n",
                            "      <td>1.274030e+04</td>\n",
                            "      <td>11.871051</td>\n",
                            "      <td>1.336798e+04</td>\n",
                            "      <td>12.694609</td>\n",
                            "      <td>1.446933e+04</td>\n",
                            "      <td>12.283979</td>\n",
                            "      <td>1.391649e+04</td>\n",
                            "      <td>11.751535</td>\n",
                            "      <td>...</td>\n",
                            "      <td>5827.242357</td>\n",
                            "      <td>13.073503</td>\n",
                            "      <td>12.088089</td>\n",
                            "      <td>14.053726</td>\n",
                            "      <td>9326.577707</td>\n",
                            "      <td>3.446242</td>\n",
                            "      <td>3.207516</td>\n",
                            "      <td>3.710478</td>\n",
                            "      <td>2466.234076</td>\n",
                            "      <td>4.635350</td>\n",
                            "    </tr>\n",
                            "    <tr>\n",
                            "      <th>std</th>\n",
                            "      <td>15150.559265</td>\n",
                            "      <td>3.335834e+05</td>\n",
                            "      <td>4.180730e+04</td>\n",
                            "      <td>2.124081</td>\n",
                            "      <td>4.228439e+04</td>\n",
                            "      <td>1.815044</td>\n",
                            "      <td>4.957773e+04</td>\n",
                            "      <td>3.126297</td>\n",
                            "      <td>4.899095e+04</td>\n",
                            "      <td>1.696599</td>\n",
                            "      <td>...</td>\n",
                            "      <td>15720.551934</td>\n",
                            "      <td>2.724351</td>\n",
                            "      <td>2.622948</td>\n",
                            "      <td>2.824828</td>\n",
                            "      <td>29754.601185</td>\n",
                            "      <td>0.568059</td>\n",
                            "      <td>0.527740</td>\n",
                            "      <td>0.613069</td>\n",
                            "      <td>7730.422067</td>\n",
                            "      <td>1.510447</td>\n",
                            "    </tr>\n",
                            "    <tr>\n",
                            "      <th>min</th>\n",
                            "      <td>1001.000000</td>\n",
                            "      <td>8.800000e+01</td>\n",
                            "      <td>0.000000e+00</td>\n",
                            "      <td>0.000000</td>\n",
                            "      <td>0.000000e+00</td>\n",
                            "      <td>0.000000</td>\n",
                            "      <td>0.000000e+00</td>\n",
                            "      <td>0.000000</td>\n",
                            "      <td>1.100000e+01</td>\n",
                            "      <td>6.092789</td>\n",
                            "      <td>...</td>\n",
                            "      <td>7.000000</td>\n",
                            "      <td>6.100000</td>\n",
                            "      <td>5.500000</td>\n",
                            "      <td>6.700000</td>\n",
                            "      <td>11.000000</td>\n",
                            "      <td>1.800000</td>\n",
                            "      <td>1.700000</td>\n",
                            "      <td>1.900000</td>\n",
                            "      <td>3.000000</td>\n",
                            "      <td>1.000000</td>\n",
                            "    </tr>\n",
                            "    <tr>\n",
                            "      <th>25%</th>\n",
                            "      <td>18180.500000</td>\n",
                            "      <td>1.096325e+04</td>\n",
                            "      <td>1.280500e+03</td>\n",
                            "      <td>10.594639</td>\n",
                            "      <td>1.374500e+03</td>\n",
                            "      <td>11.674504</td>\n",
                            "      <td>1.263750e+03</td>\n",
                            "      <td>10.496774</td>\n",
                            "      <td>1.232750e+03</td>\n",
                            "      <td>10.689322</td>\n",
                            "      <td>...</td>\n",
                            "      <td>815.000000</td>\n",
                            "      <td>11.200000</td>\n",
                            "      <td>10.300000</td>\n",
                            "      <td>12.100000</td>\n",
                            "      <td>1187.750000</td>\n",
                            "      <td>3.100000</td>\n",
                            "      <td>2.900000</td>\n",
                            "      <td>3.300000</td>\n",
                            "      <td>314.750000</td>\n",
                            "      <td>3.000000</td>\n",
                            "    </tr>\n",
                            "    <tr>\n",
                            "      <th>50%</th>\n",
                            "      <td>29178.000000</td>\n",
                            "      <td>2.580050e+04</td>\n",
                            "      <td>3.057000e+03</td>\n",
                            "      <td>11.802727</td>\n",
                            "      <td>3.274000e+03</td>\n",
                            "      <td>12.687422</td>\n",
                            "      <td>3.108000e+03</td>\n",
                            "      <td>11.772649</td>\n",
                            "      <td>3.000500e+03</td>\n",
                            "      <td>11.580861</td>\n",
                            "      <td>...</td>\n",
                            "      <td>1963.500000</td>\n",
                            "      <td>12.800000</td>\n",
                            "      <td>11.800000</td>\n",
                            "      <td>13.800000</td>\n",
                            "      <td>2743.000000</td>\n",
                            "      <td>3.400000</td>\n",
                            "      <td>3.200000</td>\n",
                            "      <td>3.700000</td>\n",
                            "      <td>718.000000</td>\n",
                            "      <td>5.000000</td>\n",
                            "    </tr>\n",
                            "    <tr>\n",
                            "      <th>75%</th>\n",
                            "      <td>45081.500000</td>\n",
                            "      <td>6.791300e+04</td>\n",
                            "      <td>8.097000e+03</td>\n",
                            "      <td>12.951840</td>\n",
                            "      <td>8.822250e+03</td>\n",
                            "      <td>13.659282</td>\n",
                            "      <td>8.976250e+03</td>\n",
                            "      <td>13.182260</td>\n",
                            "      <td>8.314250e+03</td>\n",
                            "      <td>12.639379</td>\n",
                            "      <td>...</td>\n",
                            "      <td>4727.000000</td>\n",
                            "      <td>14.800000</td>\n",
                            "      <td>13.700000</td>\n",
                            "      <td>15.900000</td>\n",
                            "      <td>6679.250000</td>\n",
                            "      <td>3.800000</td>\n",
                            "      <td>3.500000</td>\n",
                            "      <td>4.100000</td>\n",
                            "      <td>1776.250000</td>\n",
                            "      <td>6.000000</td>\n",
                            "    </tr>\n",
                            "    <tr>\n",
                            "      <th>max</th>\n",
                            "      <td>56045.000000</td>\n",
                            "      <td>1.010552e+07</td>\n",
                            "      <td>1.208253e+06</td>\n",
                            "      <td>25.460677</td>\n",
                            "      <td>1.239139e+06</td>\n",
                            "      <td>23.304372</td>\n",
                            "      <td>1.557073e+06</td>\n",
                            "      <td>37.570198</td>\n",
                            "      <td>1.501844e+06</td>\n",
                            "      <td>22.225129</td>\n",
                            "      <td>...</td>\n",
                            "      <td>434075.000000</td>\n",
                            "      <td>25.600000</td>\n",
                            "      <td>24.200000</td>\n",
                            "      <td>27.000000</td>\n",
                            "      <td>952335.000000</td>\n",
                            "      <td>6.200000</td>\n",
                            "      <td>5.800000</td>\n",
                            "      <td>6.600000</td>\n",
                            "      <td>237766.000000</td>\n",
                            "      <td>6.000000</td>\n",
                            "    </tr>\n",
                            "  </tbody>\n",
                            "</table>\n",
                            "<p>11 rows × 108 columns</p>\n",
                            "</div>"
                        ],
                        "text/plain": [
                            "                fips       TOT_POP           0-9  0-9 y/o % of total pop  \\\n",
                            "count    3140.000000  3.140000e+03  3.140000e+03             3140.000000   \n",
                            "unique           NaN           NaN           NaN                     NaN   \n",
                            "top              NaN           NaN           NaN                     NaN   \n",
                            "freq             NaN           NaN           NaN                     NaN   \n",
                            "mean    30401.640764  1.041894e+05  1.274030e+04               11.871051   \n",
                            "std     15150.559265  3.335834e+05  4.180730e+04                2.124081   \n",
                            "min      1001.000000  8.800000e+01  0.000000e+00                0.000000   \n",
                            "25%     18180.500000  1.096325e+04  1.280500e+03               10.594639   \n",
                            "50%     29178.000000  2.580050e+04  3.057000e+03               11.802727   \n",
                            "75%     45081.500000  6.791300e+04  8.097000e+03               12.951840   \n",
                            "max     56045.000000  1.010552e+07  1.208253e+06               25.460677   \n",
                            "\n",
                            "              19-Oct  10-19 y/o % of total pop         20-29  \\\n",
                            "count   3.140000e+03               3140.000000  3.140000e+03   \n",
                            "unique           NaN                       NaN           NaN   \n",
                            "top              NaN                       NaN           NaN   \n",
                            "freq             NaN                       NaN           NaN   \n",
                            "mean    1.336798e+04                 12.694609  1.446933e+04   \n",
                            "std     4.228439e+04                  1.815044  4.957773e+04   \n",
                            "min     0.000000e+00                  0.000000  0.000000e+00   \n",
                            "25%     1.374500e+03                 11.674504  1.263750e+03   \n",
                            "50%     3.274000e+03                 12.687422  3.108000e+03   \n",
                            "75%     8.822250e+03                 13.659282  8.976250e+03   \n",
                            "max     1.239139e+06                 23.304372  1.557073e+06   \n",
                            "\n",
                            "        20-29 y/o % of total pop         30-39  30-39 y/o % of total pop  ...  \\\n",
                            "count                3140.000000  3.140000e+03               3140.000000  ...   \n",
                            "unique                       NaN           NaN                       NaN  ...   \n",
                            "top                          NaN           NaN                       NaN  ...   \n",
                            "freq                         NaN           NaN                       NaN  ...   \n",
                            "mean                   12.283979  1.391649e+04                 11.751535  ...   \n",
                            "std                     3.126297  4.899095e+04                  1.696599  ...   \n",
                            "min                     0.000000  1.100000e+01                  6.092789  ...   \n",
                            "25%                    10.496774  1.232750e+03                 10.689322  ...   \n",
                            "50%                    11.772649  3.000500e+03                 11.580861  ...   \n",
                            "75%                    13.182260  8.314250e+03                 12.639379  ...   \n",
                            "max                    37.570198  1.501844e+06                 22.225129  ...   \n",
                            "\n",
                            "          COPD_number  diabetes_prevalence  diabetes_Lower 95% CI  \\\n",
                            "count     3140.000000          3140.000000            3140.000000   \n",
                            "unique            NaN                  NaN                    NaN   \n",
                            "top               NaN                  NaN                    NaN   \n",
                            "freq              NaN                  NaN                    NaN   \n",
                            "mean      5827.242357            13.073503              12.088089   \n",
                            "std      15720.551934             2.724351               2.622948   \n",
                            "min          7.000000             6.100000               5.500000   \n",
                            "25%        815.000000            11.200000              10.300000   \n",
                            "50%       1963.500000            12.800000              11.800000   \n",
                            "75%       4727.000000            14.800000              13.700000   \n",
                            "max     434075.000000            25.600000              24.200000   \n",
                            "\n",
                            "        diabetes_Upper 95% CI  diabetes_number  CKD_prevalence  \\\n",
                            "count             3140.000000      3140.000000     3140.000000   \n",
                            "unique                    NaN              NaN             NaN   \n",
                            "top                       NaN              NaN             NaN   \n",
                            "freq                      NaN              NaN             NaN   \n",
                            "mean                14.053726      9326.577707        3.446242   \n",
                            "std                  2.824828     29754.601185        0.568059   \n",
                            "min                  6.700000        11.000000        1.800000   \n",
                            "25%                 12.100000      1187.750000        3.100000   \n",
                            "50%                 13.800000      2743.000000        3.400000   \n",
                            "75%                 15.900000      6679.250000        3.800000   \n",
                            "max                 27.000000    952335.000000        6.200000   \n",
                            "\n",
                            "        CKD_Lower 95% CI  CKD_Upper 95% CI     CKD_number  Urban_rural_code  \n",
                            "count        3140.000000       3140.000000    3140.000000       3140.000000  \n",
                            "unique               NaN               NaN            NaN               NaN  \n",
                            "top                  NaN               NaN            NaN               NaN  \n",
                            "freq                 NaN               NaN            NaN               NaN  \n",
                            "mean            3.207516          3.710478    2466.234076          4.635350  \n",
                            "std             0.527740          0.613069    7730.422067          1.510447  \n",
                            "min             1.700000          1.900000       3.000000          1.000000  \n",
                            "25%             2.900000          3.300000     314.750000          3.000000  \n",
                            "50%             3.200000          3.700000     718.000000          5.000000  \n",
                            "75%             3.500000          4.100000    1776.250000          6.000000  \n",
                            "max             5.800000          6.600000  237766.000000          6.000000  \n",
                            "\n",
                            "[11 rows x 108 columns]"
                        ]
                    },
                    "execution_count": 10,
                    "metadata": {},
                    "output_type": "execute_result"
                }
            ],
            "source": [
                "# 0.4 - Vemos un resumen detallado del dataframe para conocer el tipo de variables\n",
                "df.info()\n",
                "df.describe(include='all')\n"
            ]
        },
        {
            "cell_type": "code",
            "execution_count": 11,
            "metadata": {},
            "outputs": [
                {
                    "data": {
                        "text/plain": [
                            "fips                      3140\n",
                            "TOT_POP                   3074\n",
                            "0-9                       2723\n",
                            "0-9 y/o % of total pop    3136\n",
                            "19-Oct                    2743\n",
                            "                          ... \n",
                            "CKD_prevalence              43\n",
                            "CKD_Lower 95% CI            39\n",
                            "CKD_Upper 95% CI            46\n",
                            "CKD_number                1894\n",
                            "Urban_rural_code             6\n",
                            "Length: 108, dtype: int64"
                        ]
                    },
                    "execution_count": 11,
                    "metadata": {},
                    "output_type": "execute_result"
                }
            ],
            "source": [
                "# 0.5 - Observamos los valores unicos de cada columna del df\n",
                "n_unicos = df.nunique()\n",
                "n_unicos.sort_values(ascending=False)\n",
                "n_unicos"
            ]
        },
        {
            "cell_type": "code",
            "execution_count": 12,
            "metadata": {},
            "outputs": [
                {
                    "name": "stdout",
                    "output_type": "stream",
                    "text": [
                        "No se encontraron columnas constantes.\n"
                    ]
                }
            ],
            "source": [
                "# 0.6 - Eliminar columnas con valores constantes\n",
                "\n",
                "# Identificar columnas con un solo valor único\n",
                "cols_constantes = df.nunique()[df.nunique() == 1].index\n",
                "\n",
                "# Eliminar estas columnas del DataFrame\n",
                "if len(cols_constantes) > 0:\n",
                "    df = df.drop(columns=cols_constantes)\n",
                "    print(f\"Columnas eliminadas: {cols_constantes}\")\n",
                "else:\n",
                "    print(\"No se encontraron columnas constantes.\")\n"
            ]
        },
        {
            "cell_type": "code",
            "execution_count": 13,
            "metadata": {},
            "outputs": [
                {
                    "name": "stdout",
                    "output_type": "stream",
                    "text": [
                        "Filas duplicadas encontradas: 0\n"
                    ]
                }
            ],
            "source": [
                "# 0.7 - Comprobar la presencia de filas duplicadas\n",
                "duplicados = df.duplicated().sum()\n",
                "print(f\"Filas duplicadas encontradas: {duplicados}\")\n",
                "\n",
                "if duplicados > 0:\n",
                "    df = df.drop_duplicates()\n",
                "    print(f\"Se eliminaron {duplicados} duplicados. Tamaño final: {df.shape}\")\n"
            ]
        },
        {
            "cell_type": "markdown",
            "metadata": {},
            "source": [
                "## 1 - Distribución de las variables y relación entre variables."
            ]
        },
        {
            "cell_type": "markdown",
            "metadata": {},
            "source": [
                "1.1 - Eliminación de variables poco informativas"
            ]
        },
        {
            "cell_type": "code",
            "execution_count": null,
            "metadata": {},
            "outputs": [
                {
                    "name": "stdout",
                    "output_type": "stream",
                    "text": [
                        "Variables seleccionadas tras limpieza inicial (70):\n",
                        "['TOT_POP', 'POP_ESTIMATE_2018', 'Total Population', 'county_pop2018_18 and older', 'White-alone pop', 'Civilian_labor_force_2018', 'Employed_2018', 'anycondition_number', \"Bachelor's degree or higher 2014-18\", 'Obesity_number', 'Population Aged 60+', \"Some college or associate's degree 2014-18\", 'Black-alone pop', 'High school diploma only 2014-18', '20-29', '30-39', 'POVALL_2018', 'Asian-alone pop', '40-49', '50-59', '19-Oct', '0-9', 'Less than a high school diploma 2014-18', '60-69', 'diabetes_number', '70-79', 'COPD_number', 'Heart disease_number', 'fips', 'CI90UBINC_2018', 'MEDHHINC_2018', 'Median_Household_Income_2018', 'CI90LBINC_2018', '80+', 'Two or more races pop', 'CKD_number', 'Unemployed_2018', 'GQ_ESTIMATES_2018', 'Native American/American Indian-alone pop', 'N_POP_CHG_2018', 'Hawaiian/Pacific Islander-alone pop', 'Total Specialist Physicians (2019)', 'Internal Medicine Primary Care (2019)', 'Total nurse practitioners (2019)', 'Family Medicine/General Practice Primary Care (2019)', 'CNTY_FIPS', 'Total physician assistants (2019)', 'ICU Beds_x', 'Active Physicians per 100000 Population 2018 (AAMC)', 'Total Active Patient Care Physicians per 100000 Population 2018 (AAMC)', 'Med_HH_Income_Percent_of_State_Total_2018', '% White-alone', 'STATE_FIPS', '% Black-alone', 'Active Primary Care Physicians per 100000 Population 2018 (AAMC)', 'R_DOMESTIC_MIG_2018', 'R_NET_MIG_2018', 'Active Patient Care Primary Care Physicians per 100000 Population 2018 (AAMC)', \"Percent of adults with a bachelor's degree or higher 2014-18\", 'PCTPOV017_2018', 'PCTPOV517_2018', '% NA/AI-alone', 'Percent of adults with a high school diploma only 2014-18', 'anycondition_Upper 95% CI', 'anycondition_prevalence', 'anycondition_Lower 95% CI', 'Percent of adults with less than a high school diploma 2014-18', 'PCTPOVALL_2018', 'Percent of Population Aged 60+', \"Percent of adults completing some college or associate's degree 2014-18\"]\n"
                    ]
                }
            ],
            "source": [
                "#Variables con muy baja variabilidad (std < 5) que no aportarán información útil al modelo. \n",
                "#Se eliminan variables con menos de 30 valores únicos (excepto si son indicadores categóricos relevantes).\n",
                "\n",
                "# Filtrar variables con baja desviación estándar\n",
                "umbral_std = 5\n",
                "varianza = df.describe().T.sort_values(by=\"std\", ascending=False)\n",
                "vars_relevantes = varianza[varianza[\"std\"] > umbral_std].index.tolist()\n",
                "\n",
                "# Filtrar columnas con muy pocos valores únicos\n",
                "umbral_unicos = 30\n",
                "vars_relevantes = [col for col in vars_relevantes if df[col].nunique() > umbral_unicos]\n",
                "\n",
                "print(f\"Variables seleccionadas tras limpieza inicial ({len(vars_relevantes)}):\")\n",
                "print(vars_relevantes)"
            ]
        },
        {
            "cell_type": "markdown",
            "metadata": {},
            "source": [
                "1.2 - Eliminación de variables redundantes por alta correlación (ajustado a 0.98)"
            ]
        },
        {
            "cell_type": "code",
            "execution_count": null,
            "metadata": {},
            "outputs": [
                {
                    "name": "stdout",
                    "output_type": "stream",
                    "text": [
                        "Variables redundantes eliminadas (46): ['TOT_POP', 'POP_ESTIMATE_2018', 'Total Population', 'county_pop2018_18 and older', 'White-alone pop', 'Civilian_labor_force_2018', 'Employed_2018', 'anycondition_number', 'Obesity_number', 'Population Aged 60+', \"Some college or associate's degree 2014-18\", 'High school diploma only 2014-18', '20-29', '30-39', '40-49', '50-59', '19-Oct', '0-9', '60-69', 'diabetes_number', '70-79', 'COPD_number', 'Heart disease_number', 'fips', 'CI90UBINC_2018', 'MEDHHINC_2018', 'Median_Household_Income_2018', 'CI90LBINC_2018', '80+', 'CKD_number', 'Unemployed_2018', 'Total Specialist Physicians (2019)', 'Internal Medicine Primary Care (2019)', 'Family Medicine/General Practice Primary Care (2019)', 'Active Physicians per 100000 Population 2018 (AAMC)', 'Total Active Patient Care Physicians per 100000 Population 2018 (AAMC)', 'STATE_FIPS', 'Active Primary Care Physicians per 100000 Population 2018 (AAMC)', 'R_DOMESTIC_MIG_2018', 'R_NET_MIG_2018', 'Active Patient Care Primary Care Physicians per 100000 Population 2018 (AAMC)', 'PCTPOV017_2018', 'PCTPOV517_2018', 'anycondition_Upper 95% CI', 'anycondition_prevalence', 'anycondition_Lower 95% CI']\n"
                    ]
                }
            ],
            "source": [
                "#Se eliminan variables con correlación superior a 0.98. \n",
                "#Se verifica que no se eliminen variables clave para el modelo.\n",
                "\n",
                "# Generar matriz de correlación\n",
                "correlaciones = df[vars_relevantes].corr().abs()\n",
                "\n",
                "# Filtrar variables con correlación superior a 0.98 (más estricto)\n",
                "alta_correlacion = (correlaciones > 0.98) & (correlaciones != 1.0)\n",
                "cols_correladas = alta_correlacion.sum().loc[alta_correlacion.sum() > 0].index.tolist()\n",
                "\n",
                "print(f\"Variables redundantes eliminadas ({len(cols_correladas)}): {cols_correladas}\")\n",
                "\n",
                "# Eliminamos las variables redundantes\n",
                "df_filtrado = df.drop(columns=cols_correladas)"
            ]
        },
        {
            "cell_type": "markdown",
            "metadata": {},
            "source": [
                "1.3 - Validación de la variable objetivo con correlación"
            ]
        },
        {
            "cell_type": "code",
            "execution_count": 29,
            "metadata": {},
            "outputs": [
                {
                    "name": "stdout",
                    "output_type": "stream",
                    "text": [
                        "Variables objetivo ordenadas por correlación con otras:\n",
                        "Heart disease_Lower 95% CI    0.818974\n",
                        "Heart disease_prevalence      0.812907\n",
                        "Heart disease_Upper 95% CI    0.803397\n",
                        "CKD_prevalence                0.768785\n",
                        "diabetes_prevalence           0.763031\n",
                        "COPD_prevalence               0.756749\n",
                        "Obesity_prevalence            0.593197\n",
                        "Total Hospitals (2019)        0.374071\n",
                        "dtype: float64\n"
                    ]
                }
            ],
            "source": [
                "# Filtrar posibles variables objetivo\n",
                "health_vars = [col for col in df_filtrado.columns if any(term in col.lower() for term in [\"prevalence\", \"hospital\", \"doctor\", \"disease\"])]\n",
                "\n",
                "# Analizar correlación de cada posible variable objetivo con el resto\n",
                "correlaciones_objetivo = df_filtrado[health_vars].corr().abs().mean().sort_values(ascending=False)\n",
                "\n",
                "print(f\"Variables objetivo ordenadas por correlación con otras:\")\n",
                "print(correlaciones_objetivo)"
            ]
        },
        {
            "cell_type": "markdown",
            "metadata": {},
            "source": [
                "Este paso nos ayuda a elegir la mejor variable objetivo basándonos en su relación con otras."
            ]
        },
        {
            "cell_type": "markdown",
            "metadata": {},
            "source": [
                "## 2 - Partición del Dataset en Train/Test"
            ]
        },
        {
            "cell_type": "markdown",
            "metadata": {},
            "source": [
                "2.1 Dividimos el dataset"
            ]
        },
        {
            "cell_type": "code",
            "execution_count": null,
            "metadata": {},
            "outputs": [
                {
                    "name": "stdout",
                    "output_type": "stream",
                    "text": [
                        "Tamaño Train: (2512, 61), Tamaño Test: (628, 61)\n"
                    ]
                }
            ],
            "source": [
                "#Definimos X (variables predictoras) e y (variable objetivo). \n",
                "#Dividimos los datos en conjuntos de entrenamiento y prueba.\n",
                "\n",
                "#Usaremos un test_size=0.2 (80% entrenamiento, 20% prueba) para garantizar que el modelo generalice bien\n",
                "\n",
                "y = df_filtrado[\"Heart disease_prevalence\"]  # Elegimos esta variable objetivo basada en el análisis previo\n",
                "X = df_filtrado.drop(columns=[\"Heart disease_prevalence\"])  # Eliminamos la variable objetivo de las predictoras\n",
                "\n",
                "# División en Train/Test\n",
                "X_train, X_test, y_train, y_test = train_test_split(X, y, test_size=0.2, random_state=42)\n",
                "\n",
                "print(f\"Tamaño Train: {X_train.shape}, Tamaño Test: {X_test.shape}\")"
            ]
        },
        {
            "cell_type": "markdown",
            "metadata": {},
            "source": [
                "2.2 - Detección de observaciones influyentes en el conjunto de entrenamiento"
            ]
        },
        {
            "cell_type": "markdown",
            "metadata": {},
            "source": [
                "Identificamos valores atípicos que puedan afectar la regresión. Filtramos datos extremos para mejorar la estabilidad del modelo. Usamos el rango intercuartil (IQR) para detectar outliers en X_train.Eliminamos valores extremos si exceden 1.5 veces el IQR."
            ]
        },
        {
            "cell_type": "code",
            "execution_count": 31,
            "metadata": {},
            "outputs": [
                {
                    "name": "stdout",
                    "output_type": "stream",
                    "text": [
                        "Nuevo tamaño después de filtrar valores extremos: (869, 59)\n"
                    ]
                }
            ],
            "source": [
                "# Filtrar solo columnas numéricas antes de calcular IQR\n",
                "X_train_numerico = X_train.select_dtypes(include=[\"int64\", \"float64\"])\n",
                "\n",
                "# Detectar valores extremos en cada variable\n",
                "Q1 = X_train_numerico.quantile(0.25)\n",
                "Q3 = X_train_numerico.quantile(0.75)\n",
                "IQR = Q3 - Q1\n",
                "\n",
                "# Definir límites para eliminación de valores extremos\n",
                "limite_inferior = Q1 - 1.5 * IQR\n",
                "limite_superior = Q3 + 1.5 * IQR\n",
                "\n",
                "# Filtrar valores dentro del rango aceptable\n",
                "X_train_filtrado = X_train_numerico[(X_train_numerico >= limite_inferior) & (X_train_numerico <= limite_superior)].dropna()\n",
                "y_train_filtrado = y_train.loc[X_train_filtrado.index]\n",
                "\n",
                "print(f\"Nuevo tamaño después de filtrar valores extremos: {X_train_filtrado.shape}\")"
            ]
        },
        {
            "cell_type": "markdown",
            "metadata": {},
            "source": [
                "Próximo paso: Extracción y selección de características\n",
                "Evaluamos la importancia de cada variable en la predicción de la variable objetivo. Filtramos las características menos relevantes para mejorar el rendimiento del modelo.\n",
                "\n",
                "Estrategia: Usamos SelectKBest con f_regression para analizar qué variables tienen mayor impacto en Heart disease_prevalence. \n",
                "Seleccionamos las mejores características según su puntaje de relevancia."
            ]
        },
        {
            "cell_type": "markdown",
            "metadata": {},
            "source": [
                "2.3 - Extracción y selección de características"
            ]
        },
        {
            "cell_type": "markdown",
            "metadata": {},
            "source": [
                "Evaluamos la importancia de cada variable en la predicción de la variable objetivo. Filtramos las características menos relevantes para mejorar el rendimiento del modelo. Usamos SelectKBest con f_regression para analizar qué variables tienen mayor impacto en Heart disease_prevalence. \n",
                "Seleccionamos las mejores características según su puntaje de relevancia."
            ]
        },
        {
            "cell_type": "code",
            "execution_count": 32,
            "metadata": {},
            "outputs": [
                {
                    "name": "stdout",
                    "output_type": "stream",
                    "text": [
                        "Variables seleccionadas con mayor impacto en la predicción:\n",
                        "                                             Variable          Score\n",
                        "10                         Heart disease_Upper 95% CI  208309.878692\n",
                        "9                          Heart disease_Lower 95% CI  192923.229632\n",
                        "19                                   CKD_Upper 95% CI    5636.373008\n",
                        "17                                     CKD_prevalence    4824.706356\n",
                        "18                                   CKD_Lower 95% CI    4088.451129\n",
                        "16                              diabetes_Upper 95% CI    3689.292848\n",
                        "14                                diabetes_prevalence    3228.782613\n",
                        "15                              diabetes_Lower 95% CI    2752.597213\n",
                        "13                                  COPD_Upper 95% CI    2542.779247\n",
                        "11                                    COPD_prevalence    2497.133828\n",
                        "12                                  COPD_Lower 95% CI    2417.550973\n",
                        "6                                      PCTPOVALL_2018     980.606273\n",
                        "4   Percent of adults with less than a high school...     578.729440\n",
                        "5   Percent of adults with a bachelor's degree or ...     535.335544\n",
                        "2                                        R_death_2018     447.702036\n",
                        "1                            70-79 y/o % of total pop     432.917590\n",
                        "8           Med_HH_Income_Percent_of_State_Total_2018     350.725114\n",
                        "3                                  R_NATURAL_INC_2018     285.186162\n",
                        "7                              Unemployment_rate_2018     232.252337\n",
                        "0                            30-39 y/o % of total pop     220.831722\n"
                    ]
                }
            ],
            "source": [
                "# Selección automática de características con prueba de relevancia\n",
                "num_features = 20  # Número de características a seleccionar\n",
                "selector = SelectKBest(score_func=f_regression, k=num_features)\n",
                "X_selected = selector.fit_transform(X_train_filtrado, y_train_filtrado)\n",
                "\n",
                "# Mostrar las mejores características seleccionadas\n",
                "selected_columns = X_train_filtrado.columns[selector.get_support()]\n",
                "df_selected = pd.DataFrame({\"Variable\": selected_columns, \"Score\": selector.scores_[selector.get_support()]})\n",
                "df_selected = df_selected.sort_values(by=\"Score\", ascending=False)\n",
                "\n",
                "print(f\"Variables seleccionadas con mayor impacto en la predicción:\")\n",
                "print(df_selected)"
            ]
        },
        {
            "cell_type": "markdown",
            "metadata": {},
            "source": [
                "2.4 - Escalado de datos"
            ]
        },
        {
            "cell_type": "markdown",
            "metadata": {},
            "source": [
                "Normalizamos las variables predictoras (X_train_filtrado) para que tengan la misma escala. Esto es importante para modelos de regresión, especialmente cuando las magnitudes de las variables son muy distintas.\n",
                "Usamos StandardScaler para transformar los datos a una distribución normalizada."
            ]
        },
        {
            "cell_type": "code",
            "execution_count": null,
            "metadata": {},
            "outputs": [
                {
                    "name": "stdout",
                    "output_type": "stream",
                    "text": [
                        "Tamaño X_train después de escalado: (869, 59)\n",
                        "Tamaño X_test después de escalado: (628, 59)\n"
                    ]
                }
            ],
            "source": [
                "# Filtrar solo columnas numéricas en X_test\n",
                "X_test_numerico = X_test.select_dtypes(include=[\"int64\", \"float64\"])\n",
                "\n",
                "# Asegurar que X_test tenga las mismas columnas que X_train_filtrado\n",
                "X_test_numerico = X_test_numerico[X_train_filtrado.columns]\n",
                "\n",
                "# Aplicar escalado a ambas matrices\n",
                "scaler = StandardScaler()\n",
                "X_train_scaled = scaler.fit_transform(X_train_filtrado)\n",
                "X_test_scaled = scaler.transform(X_test_numerico)\n",
                "\n",
                "print(f\"Tamaño X_train después de escalado: {X_train_scaled.shape}\")\n",
                "print(f\"Tamaño X_test después de escalado: {X_test_scaled.shape}\")"
            ]
        },
        {
            "cell_type": "markdown",
            "metadata": {},
            "source": [
                "## 3 - Construcción y entrenamiento del modelo de regresión lineal"
            ]
        },
        {
            "cell_type": "markdown",
            "metadata": {},
            "source": [
                "Entrenamos un modelo de regresión lineal utilizando Ridge (regularización L2). Evaluamos el desempeño del modelo con métricas como R², MAE y MSE. Optimizamos el hiperparámetro alpha para mejorar la estabilidad y precisión del modelo."
            ]
        },
        {
            "cell_type": "markdown",
            "metadata": {},
            "source": [
                "3.1 - Entrenamiento del modelo base (Ridge con alpha=1.0)"
            ]
        },
        {
            "cell_type": "code",
            "execution_count": 37,
            "metadata": {},
            "outputs": [
                {
                    "name": "stdout",
                    "output_type": "stream",
                    "text": [
                        "R² en Test: 0.9878\n",
                        "MAE: 0.0666\n",
                        "MSE: 0.0393\n"
                    ]
                }
            ],
            "source": [
                "# Entrenar modelo de regresión Ridge con alpha inicial\n",
                "modelo = Ridge(alpha=1.0)\n",
                "modelo.fit(X_train_scaled, y_train_filtrado)\n",
                "\n",
                "# Predicciones en el conjunto de prueba\n",
                "y_pred_test = modelo.predict(X_test_scaled)\n",
                "\n",
                "# Evaluación del modelo\n",
                "r2 = r2_score(y_test, y_pred_test)\n",
                "mae = mean_absolute_error(y_test, y_pred_test)\n",
                "mse = mean_squared_error(y_test, y_pred_test)\n",
                "\n",
                "print(f\"R² en Test: {r2:.4f}\")\n",
                "print(f\"MAE: {mae:.4f}\")\n",
                "print(f\"MSE: {mse:.4f}\")"
            ]
        },
        {
            "cell_type": "markdown",
            "metadata": {},
            "source": [
                "Evaluación del Modelo Ridge:\n",
                "R² = 0.9878: \n",
                "El coeficioente de determinación nos indica qué proporción de la variabilidad de los datos es explicada por el modelo. Es decir, es una medida de qué tan bien el modelo está ajustando los datos.\n",
                "El modelo explica el 98.78% de la variabilidad de los datos. Es un ajuste muy alto, lo que sugiere que el modelo es sólido.\n",
                "\n",
                "MAE = 0.0666 El error promedio nos dice que, en promedio, la diferencia entre las predicciones y los valores reales es pequeña.\n",
                "\n",
                "MSE = 0.0393 El error cuadratico confirma que los errores son bajos, pero debido a la penalización cuadrática, castiga más los errores grandes.\n",
                "\n",
                "Variables más influyentes:\n",
                "\n",
                "Heart disease (Intervalo de confianza del 95%): Un indicador clave de problemas cardiovasculares.\n",
                "\n",
                "Diabetes prevalence: Relacionada con el impacto metabólico y su efecto en la salud general.\n",
                "\n",
                "COPD prevalence: Enfermedades pulmonares crónicas que afectan la calidad de vida.\n",
                "\n",
                "CKD prevalence: Enfermedades renales que suelen estar vinculadas con otros problemas de salud."
            ]
        },
        {
            "cell_type": "markdown",
            "metadata": {},
            "source": [
                "## 4 - Análisis de coeficientes y predicciones"
            ]
        },
        {
            "cell_type": "markdown",
            "metadata": {},
            "source": [
                "Revisamos la importancia de cada variable en el modelo para entender su impacto. Generamos predicciones para interpretar los resultados en un contexto real. Extraemos los coeficientes de la regresión para analizar qué variables tienen más influencia. Generamos una predicción con un nuevo condado para validar el comportamiento del modelo."
            ]
        },
        {
            "cell_type": "markdown",
            "metadata": {},
            "source": [
                "4.1 - Análisis de importancia de cada variable"
            ]
        },
        {
            "cell_type": "code",
            "execution_count": null,
            "metadata": {},
            "outputs": [
                {
                    "data": {
                        "image/png": "[encoded data removed]",
                        "text/plain": [
                            "<Figure size 800x500 with 1 Axes>"
                        ]
                    },
                    "metadata": {},
                    "output_type": "display_data"
                }
            ],
            "source": [
                "# Obtener coeficientes del modelo (Top 10 más importantes)\n",
                "coeficientes = pd.DataFrame({\n",
                "    \"Variable\": X_train_filtrado.columns,\n",
                "    \"Coeficiente\": modelo.coef_\n",
                "}).sort_values(by=\"Coeficiente\", ascending=False).head(10)  # Solo las 10 más relevantes\n",
                "\n",
                "# Ajustar configuración de la gráfica\n",
                "plt.figure(figsize=(8, 5))  # Reducimos tamaño para mejor legibilidad\n",
                "sns.barplot(x=\"Coeficiente\", y=\"Variable\", data=coeficientes, palette=\"coolwarm\", hue=False, legend=False)  # Evitamos advertencias\n",
                "plt.title(\"Impacto de cada variable en la predicción\")\n",
                "plt.xticks(rotation=45)  # Ajustamos etiquetas para mejor legibilidad\n",
                "plt.show()"
            ]
        },
        {
            "cell_type": "markdown",
            "metadata": {},
            "source": [
                "4.2 - Optimización del modelo con Lasso\n"
            ]
        },
        {
            "cell_type": "code",
            "execution_count": null,
            "metadata": {},
            "outputs": [
                {
                    "name": "stdout",
                    "output_type": "stream",
                    "text": [
                        "R² en Test (Lasso): 0.9927\n",
                        "MAE (Lasso): 0.1211\n",
                        "MSE (Lasso): 0.0235\n"
                    ]
                },
                {
                    "data": {
                        "image/png": "[encoded data removed]",
                        "text/plain": [
                            "<Figure size 1000x500 with 1 Axes>"
                        ]
                    },
                    "metadata": {},
                    "output_type": "display_data"
                }
            ],
            "source": [
                "# Entrenar el modelo Lasso con alpha inicial\n",
                "modelo_lasso = Lasso(alpha=0.1)  # Alpha controla la penalización\n",
                "modelo_lasso.fit(X_train_scaled, y_train_filtrado)\n",
                "\n",
                "# Predicciones en el conjunto de prueba\n",
                "y_pred_lasso = modelo_lasso.predict(X_test_scaled)\n",
                "\n",
                "# Evaluación del modelo\n",
                "r2_lasso = r2_score(y_test, y_pred_lasso)\n",
                "mae_lasso = mean_absolute_error(y_test, y_pred_lasso)\n",
                "mse_lasso = mean_squared_error(y_test, y_pred_lasso)\n",
                "\n",
                "print(f\"R² en Test (Lasso): {r2_lasso:.4f}\")\n",
                "print(f\"MAE (Lasso): {mae_lasso:.4f}\")\n",
                "print(f\"MSE (Lasso): {mse_lasso:.4f}\")\n",
                "\n",
                "# Comparación de impacto de alpha en Lasso\n",
                "alphas = np.arange(0.01, 10, 0.5)\n",
                "r2_scores_lasso = []\n",
                "\n",
                "for alpha in alphas:\n",
                "    modelo_temp = Lasso(alpha=alpha)\n",
                "    modelo_temp.fit(X_train_scaled, y_train_filtrado)\n",
                "    r2_scores_lasso.append(modelo_temp.score(X_test_scaled, y_test))\n",
                "\n",
                "# Graficamos los resultados\n",
                "plt.figure(figsize=(10, 5))\n",
                "plt.plot(alphas, r2_scores_lasso, marker=\"o\", linestyle=\"--\", color=\"r\", label=\"Lasso\")\n",
                "plt.xlabel(\"Valor de Alpha\")\n",
                "plt.ylabel(\"R² en Test\")\n",
                "plt.title(\"Impacto del hiperparámetro Alpha en Lasso\")\n",
                "plt.legend()\n",
                "plt.grid()\n",
                "plt.show()"
            ]
        },
        {
            "cell_type": "markdown",
            "metadata": {},
            "source": [
                "Evaluación del Modelo Lasso:\n",
                "\n",
                "R² = 0.9927 El coeficioente de determinación:\n",
                "Nos indica qué proporción de la variabilidad de los datos es explicada por el modelo. Es decir, es una medida de qué tan bien el modelo está ajustando los datos.\n",
                "El modelo explica el 99.27% de la variabilidad de los datos. Es un ajuste muy alto, lo que sugiere una gran precisión.\n",
                "\n",
                "MAE = 0.1211 El error absoluto medio:\n",
                "Calcula la diferencia promedio entre las predicciones y los valores reales. \n",
                "Comparado con Ridge (0.0666), el MAE aquí es más alto, lo que sugiere que el modelo comete errores ligeramente mayores en promedio.\n",
                "\n",
                "MSE = 0.0235 El Error cuadrático medio:\n",
                "Mide el error pero penalizando más las predicciones erróneas grandes.\n",
                "Comparado con Ridge (0.0393), aquí el error cuadrático es menor, lo que indica que el modelo maneja bien los errores extremos."
            ]
        }
    ],
    "metadata": {
        "kernelspec": {
            "display_name": "Python 3",
            "language": "python",
            "name": "python3"
        },
        "language_info": {
            "codemirror_mode": {
                "name": "ipython",
                "version": 3
            },
            "file_extension": ".py",
            "mimetype": "text/x-python",
            "name": "python",
            "nbconvert_exporter": "python",
            "pygments_lexer": "ipython3",
            "version": "3.11.4"
        },
        "orig_nbformat": 4
    },
    "nbformat": 4,
    "nbformat_minor": 2
}
